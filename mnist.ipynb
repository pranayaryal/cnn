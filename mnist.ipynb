{
 "cells": [
  {
   "cell_type": "code",
   "execution_count": 297,
   "metadata": {
    "collapsed": true
   },
   "outputs": [],
   "source": [
    "from tensorflow.examples.tutorials.mnist import input_data"
   ]
  },
  {
   "cell_type": "code",
   "execution_count": 298,
   "metadata": {
    "collapsed": true
   },
   "outputs": [],
   "source": [
    "import numpy as np\n",
    "import timeit"
   ]
  },
  {
   "cell_type": "code",
   "execution_count": 299,
   "metadata": {},
   "outputs": [
    {
     "name": "stdout",
     "output_type": "stream",
     "text": [
      "Extracting MNIST_data/train-images-idx3-ubyte.gz\n",
      "Extracting MNIST_data/train-labels-idx1-ubyte.gz\n",
      "Extracting MNIST_data/t10k-images-idx3-ubyte.gz\n",
      "Extracting MNIST_data/t10k-labels-idx1-ubyte.gz\n"
     ]
    }
   ],
   "source": [
    "mnist = input_data.read_data_sets('MNIST_data', one_hot = True)"
   ]
  },
  {
   "cell_type": "code",
   "execution_count": 300,
   "metadata": {
    "collapsed": true
   },
   "outputs": [],
   "source": [
    "import tensorflow as tf"
   ]
  },
  {
   "cell_type": "code",
   "execution_count": 301,
   "metadata": {
    "collapsed": true
   },
   "outputs": [],
   "source": [
    "sess = tf.InteractiveSession()"
   ]
  },
  {
   "cell_type": "code",
   "execution_count": 302,
   "metadata": {
    "collapsed": true
   },
   "outputs": [],
   "source": [
    "x = tf.placeholder(tf.float32, shape=[None, 784])\n",
    "y_ = tf.placeholder(tf.float32, shape=[None, 10])"
   ]
  },
  {
   "cell_type": "code",
   "execution_count": 303,
   "metadata": {
    "collapsed": true
   },
   "outputs": [],
   "source": [
    "W = tf.Variable(tf.zeros([784, 10]))\n",
    "b = tf.Variable(tf.zeros([10]))\n",
    "# W = tf.cast(W, tf.float32)\n",
    "# b = tf.cast(b, tf.float32)"
   ]
  },
  {
   "cell_type": "code",
   "execution_count": 304,
   "metadata": {
    "collapsed": true
   },
   "outputs": [],
   "source": [
    "sess.run(tf.global_variables_initializer())"
   ]
  },
  {
   "cell_type": "code",
   "execution_count": 305,
   "metadata": {
    "collapsed": true
   },
   "outputs": [],
   "source": [
    "y = tf.matmul(x, W) + b"
   ]
  },
  {
   "cell_type": "code",
   "execution_count": 306,
   "metadata": {
    "collapsed": true
   },
   "outputs": [],
   "source": [
    "cross_entropy = tf.reduce_mean(tf.nn.softmax_cross_entropy_with_logits(labels=y_, logits=y))"
   ]
  },
  {
   "cell_type": "code",
   "execution_count": 307,
   "metadata": {
    "collapsed": true
   },
   "outputs": [],
   "source": [
    "train_step = tf.train.GradientDescentOptimizer(0.5).minimize(cross_entropy)"
   ]
  },
  {
   "cell_type": "code",
   "execution_count": 308,
   "metadata": {},
   "outputs": [],
   "source": [
    "for _ in range(1000):\n",
    "    batch = mnist.train.next_batch(100)\n",
    "    combine = []\n",
    "    for i in range(len(batch[0])):\n",
    "        halved = halved_array(batch[0][i])\n",
    "        combine.append(halved)\n",
    "    combined = np.asarray(combine) \n",
    "    train_step.run(feed_dict={x: batch[0], y_: batch[1]})"
   ]
  },
  {
   "cell_type": "code",
   "execution_count": 309,
   "metadata": {
    "collapsed": true
   },
   "outputs": [],
   "source": [
    "correct_prediction = tf.equal(tf.argmax(y,1), tf.arg_max(y_, 1))"
   ]
  },
  {
   "cell_type": "code",
   "execution_count": 310,
   "metadata": {
    "collapsed": true
   },
   "outputs": [],
   "source": [
    "accuracy = tf.reduce_mean(tf.cast(correct_prediction, tf.float32))"
   ]
  },
  {
   "cell_type": "code",
   "execution_count": 311,
   "metadata": {},
   "outputs": [
    {
     "name": "stdout",
     "output_type": "stream",
     "text": [
      "0.9175\n"
     ]
    }
   ],
   "source": [
    "print(accuracy.eval(feed_dict={x: mnist.test.images, y_: mnist.test.labels}))"
   ]
  },
  {
   "cell_type": "code",
   "execution_count": 312,
   "metadata": {
    "collapsed": true
   },
   "outputs": [],
   "source": [
    "def weight_variable(shape):\n",
    "    initial = tf.truncated_normal(shape, stddev=0.1)\n",
    "    return tf.Variable(initial)\n",
    "\n",
    "def bias_variable(shape):\n",
    "    initial = tf.constant(0.1, shape = shape)\n",
    "    return tf.Variable(initial)"
   ]
  },
  {
   "cell_type": "code",
   "execution_count": 313,
   "metadata": {
    "collapsed": true
   },
   "outputs": [],
   "source": [
    "def conv2d(x, W):\n",
    "    return tf.nn.conv2d(x, W, strides=[1,1,1,1], padding='SAME')\n",
    "\n",
    "def max_pool_2x2(x):\n",
    "    return tf.nn.max_pool(x, ksize=[1,2,2,1], strides=[1,2,2,1], padding='SAME')\n",
    "    "
   ]
  },
  {
   "cell_type": "code",
   "execution_count": 314,
   "metadata": {
    "collapsed": true
   },
   "outputs": [],
   "source": [
    "#number of filters(32) are usually chosen as powers of 2\n",
    "W_conv1 = weight_variable([5, 5, 1, 32])\n",
    "b_conv1 = bias_variable([32])"
   ]
  },
  {
   "cell_type": "code",
   "execution_count": 315,
   "metadata": {
    "collapsed": true
   },
   "outputs": [],
   "source": [
    "x_image = tf.reshape(x, [-1,28,28,1])"
   ]
  },
  {
   "cell_type": "code",
   "execution_count": 316,
   "metadata": {
    "collapsed": true
   },
   "outputs": [],
   "source": [
    "h_conv1 = tf.nn.relu(conv2d(x_image, W_conv1) + b_conv1)"
   ]
  },
  {
   "cell_type": "code",
   "execution_count": 317,
   "metadata": {
    "collapsed": true
   },
   "outputs": [],
   "source": [
    "h_pool1 = max_pool_2x2(h_conv1)"
   ]
  },
  {
   "cell_type": "code",
   "execution_count": 318,
   "metadata": {
    "collapsed": true
   },
   "outputs": [],
   "source": [
    "W_conv2 = weight_variable([5,5,32,64])\n",
    "b_conv2 = weight_variable([64])"
   ]
  },
  {
   "cell_type": "code",
   "execution_count": 319,
   "metadata": {
    "collapsed": true
   },
   "outputs": [],
   "source": [
    "h_conv2 = tf.nn.relu(conv2d(h_pool1, W_conv2) + b_conv2)\n",
    "h_pool2 = max_pool_2x2(h_conv2)"
   ]
  },
  {
   "cell_type": "code",
   "execution_count": 320,
   "metadata": {
    "collapsed": true
   },
   "outputs": [],
   "source": [
    "W_fc1 = weight_variable([7 * 7 * 64, 1024])\n",
    "b_fc1 = bias_variable([1024])"
   ]
  },
  {
   "cell_type": "code",
   "execution_count": 321,
   "metadata": {
    "collapsed": true
   },
   "outputs": [],
   "source": [
    "h_pool2_flat = tf.reshape(h_pool2, [-1, 7 * 7 * 64])\n",
    "h_fc1 = tf.nn.relu(tf.matmul(h_pool2_flat, W_fc1) + b_fc1)"
   ]
  },
  {
   "cell_type": "code",
   "execution_count": 322,
   "metadata": {
    "collapsed": true
   },
   "outputs": [],
   "source": [
    "keep_prob = tf.placeholder(tf.float32)"
   ]
  },
  {
   "cell_type": "code",
   "execution_count": 323,
   "metadata": {
    "collapsed": true
   },
   "outputs": [],
   "source": [
    "h_fc1_drop = tf.nn.dropout(h_fc1, keep_prob)"
   ]
  },
  {
   "cell_type": "code",
   "execution_count": 324,
   "metadata": {
    "collapsed": true
   },
   "outputs": [],
   "source": [
    "W_fc2 = weight_variable([1024, 10])\n",
    "b_fc2 = bias_variable([10])"
   ]
  },
  {
   "cell_type": "code",
   "execution_count": 325,
   "metadata": {
    "collapsed": true
   },
   "outputs": [],
   "source": [
    "y_conv = tf.matmul(h_fc1_drop, W_fc2) + b_fc2"
   ]
  },
  {
   "cell_type": "code",
   "execution_count": 326,
   "metadata": {
    "collapsed": true
   },
   "outputs": [],
   "source": [
    "cross_entropy = tf.reduce_mean(tf.nn.softmax_cross_entropy_with_logits(labels = y_, logits = y_conv))"
   ]
  },
  {
   "cell_type": "code",
   "execution_count": 327,
   "metadata": {
    "collapsed": true
   },
   "outputs": [],
   "source": [
    "correct_prediction = tf.equal(tf.argmax(y_conv, 1), tf.arg_max(y_, 1))\n",
    "accuracy = tf.reduce_mean(tf.cast(correct_prediction, tf.float32))"
   ]
  },
  {
   "cell_type": "code",
   "execution_count": 328,
   "metadata": {
    "collapsed": true
   },
   "outputs": [],
   "source": [
    "sess.run(tf.global_variables_initializer())"
   ]
  },
  {
   "cell_type": "code",
   "execution_count": 329,
   "metadata": {},
   "outputs": [
    {
     "name": "stdout",
     "output_type": "stream",
     "text": [
      "step 0, training accuracy 0.06\n",
      "step 100, training accuracy 0.1\n",
      "step 200, training accuracy 0.14\n",
      "step 300, training accuracy 0.08\n",
      "step 400, training accuracy 0.04\n",
      "step 500, training accuracy 0.12\n",
      "step 600, training accuracy 0.22\n",
      "step 700, training accuracy 0.2\n",
      "step 800, training accuracy 0.24\n",
      "step 900, training accuracy 0.2\n",
      "step 1000, training accuracy 0.18\n",
      "step 1100, training accuracy 0.28\n",
      "step 1200, training accuracy 0.26\n",
      "step 1300, training accuracy 0.3\n",
      "step 1400, training accuracy 0.32\n",
      "step 1500, training accuracy 0.34\n",
      "step 1600, training accuracy 0.44\n",
      "step 1700, training accuracy 0.34\n",
      "step 1800, training accuracy 0.44\n",
      "step 1900, training accuracy 0.42\n",
      "step 2000, training accuracy 0.3\n",
      "step 2100, training accuracy 0.28\n",
      "step 2200, training accuracy 0.46\n",
      "step 2300, training accuracy 0.38\n",
      "step 2400, training accuracy 0.48\n",
      "step 2500, training accuracy 0.5\n",
      "step 2600, training accuracy 0.52\n",
      "step 2700, training accuracy 0.6\n",
      "step 2800, training accuracy 0.44\n",
      "step 2900, training accuracy 0.64\n",
      "step 3000, training accuracy 0.52\n",
      "step 3100, training accuracy 0.6\n",
      "step 3200, training accuracy 0.56\n",
      "step 3300, training accuracy 0.72\n",
      "step 3400, training accuracy 0.62\n",
      "step 3500, training accuracy 0.6\n",
      "step 3600, training accuracy 0.68\n",
      "step 3700, training accuracy 0.66\n",
      "step 3800, training accuracy 0.62\n",
      "step 3900, training accuracy 0.62\n",
      "step 4000, training accuracy 0.64\n",
      "step 4100, training accuracy 0.72\n",
      "step 4200, training accuracy 0.86\n",
      "step 4300, training accuracy 0.68\n",
      "step 4400, training accuracy 0.78\n",
      "step 4500, training accuracy 0.68\n",
      "step 4600, training accuracy 0.66\n",
      "step 4700, training accuracy 0.76\n",
      "step 4800, training accuracy 0.7\n",
      "step 4900, training accuracy 0.66\n",
      "step 5000, training accuracy 0.82\n",
      "step 5100, training accuracy 0.7\n",
      "step 5200, training accuracy 0.78\n",
      "step 5300, training accuracy 0.72\n",
      "step 5400, training accuracy 0.68\n",
      "step 5500, training accuracy 0.86\n",
      "step 5600, training accuracy 0.76\n",
      "step 5700, training accuracy 0.68\n",
      "step 5800, training accuracy 0.8\n",
      "step 5900, training accuracy 0.78\n",
      "step 6000, training accuracy 0.78\n",
      "step 6100, training accuracy 0.68\n",
      "step 6200, training accuracy 0.74\n",
      "step 6300, training accuracy 0.76\n",
      "step 6400, training accuracy 0.7\n",
      "step 6500, training accuracy 0.74\n",
      "step 6600, training accuracy 0.68\n",
      "step 6700, training accuracy 0.8\n",
      "step 6800, training accuracy 0.76\n",
      "step 6900, training accuracy 0.78\n",
      "step 7000, training accuracy 0.82\n",
      "step 7100, training accuracy 0.8\n",
      "step 7200, training accuracy 0.78\n",
      "step 7300, training accuracy 0.84\n",
      "step 7400, training accuracy 0.82\n",
      "step 7500, training accuracy 0.86\n",
      "step 7600, training accuracy 0.84\n",
      "step 7700, training accuracy 0.82\n",
      "step 7800, training accuracy 0.66\n",
      "step 7900, training accuracy 0.76\n",
      "step 8000, training accuracy 0.92\n",
      "step 8100, training accuracy 0.84\n",
      "step 8200, training accuracy 0.88\n",
      "step 8300, training accuracy 0.76\n",
      "step 8400, training accuracy 0.78\n",
      "step 8500, training accuracy 0.78\n",
      "step 8600, training accuracy 0.86\n",
      "step 8700, training accuracy 0.78\n",
      "step 8800, training accuracy 0.8\n",
      "step 8900, training accuracy 0.84\n",
      "step 9000, training accuracy 0.76\n",
      "step 9100, training accuracy 0.82\n",
      "step 9200, training accuracy 0.82\n",
      "step 9300, training accuracy 0.88\n",
      "step 9400, training accuracy 0.82\n",
      "step 9500, training accuracy 0.76\n",
      "step 9600, training accuracy 0.88\n",
      "step 9700, training accuracy 0.72\n",
      "step 9800, training accuracy 0.76\n",
      "step 9900, training accuracy 0.84\n",
      "step 10000, training accuracy 0.92\n",
      "step 10100, training accuracy 0.82\n",
      "step 10200, training accuracy 0.92\n",
      "step 10300, training accuracy 0.86\n",
      "step 10400, training accuracy 0.9\n",
      "step 10500, training accuracy 0.88\n",
      "step 10600, training accuracy 0.9\n",
      "step 10700, training accuracy 0.82\n",
      "step 10800, training accuracy 0.82\n",
      "step 10900, training accuracy 0.9\n",
      "step 11000, training accuracy 0.9\n",
      "step 11100, training accuracy 0.86\n",
      "step 11200, training accuracy 0.78\n",
      "step 11300, training accuracy 0.82\n",
      "step 11400, training accuracy 0.86\n",
      "step 11500, training accuracy 0.9\n",
      "step 11600, training accuracy 0.88\n",
      "step 11700, training accuracy 0.9\n",
      "step 11800, training accuracy 0.94\n",
      "step 11900, training accuracy 0.9\n",
      "step 12000, training accuracy 0.78\n",
      "step 12100, training accuracy 0.88\n",
      "step 12200, training accuracy 0.92\n",
      "step 12300, training accuracy 0.84\n",
      "step 12400, training accuracy 0.9\n",
      "step 12500, training accuracy 0.88\n",
      "step 12600, training accuracy 0.92\n",
      "step 12700, training accuracy 0.86\n",
      "step 12800, training accuracy 0.9\n",
      "step 12900, training accuracy 0.88\n",
      "step 13000, training accuracy 0.92\n",
      "step 13100, training accuracy 0.84\n",
      "step 13200, training accuracy 0.9\n",
      "step 13300, training accuracy 0.92\n",
      "step 13400, training accuracy 0.9\n",
      "step 13500, training accuracy 0.92\n",
      "step 13600, training accuracy 0.88\n",
      "step 13700, training accuracy 0.9\n",
      "step 13800, training accuracy 0.78\n",
      "step 13900, training accuracy 0.9\n",
      "step 14000, training accuracy 0.96\n",
      "step 14100, training accuracy 0.84\n",
      "step 14200, training accuracy 0.92\n",
      "step 14300, training accuracy 0.82\n",
      "step 14400, training accuracy 0.9\n",
      "step 14500, training accuracy 0.92\n",
      "step 14600, training accuracy 0.82\n",
      "step 14700, training accuracy 0.8\n",
      "step 14800, training accuracy 0.84\n",
      "step 14900, training accuracy 0.86\n",
      "step 15000, training accuracy 1\n",
      "step 15100, training accuracy 0.88\n",
      "step 15200, training accuracy 0.88\n",
      "step 15300, training accuracy 0.9\n",
      "step 15400, training accuracy 0.9\n",
      "step 15500, training accuracy 0.88\n",
      "step 15600, training accuracy 0.82\n",
      "step 15700, training accuracy 0.92\n",
      "step 15800, training accuracy 0.9\n",
      "step 15900, training accuracy 0.88\n",
      "step 16000, training accuracy 0.9\n",
      "step 16100, training accuracy 0.94\n",
      "step 16200, training accuracy 0.98\n",
      "step 16300, training accuracy 0.84\n",
      "step 16400, training accuracy 0.92\n",
      "step 16500, training accuracy 0.9\n",
      "step 16600, training accuracy 0.9\n",
      "step 16700, training accuracy 0.92\n",
      "step 16800, training accuracy 0.9\n",
      "step 16900, training accuracy 1\n",
      "step 17000, training accuracy 0.92\n",
      "step 17100, training accuracy 0.9\n",
      "step 17200, training accuracy 0.88\n",
      "step 17300, training accuracy 0.92\n",
      "step 17400, training accuracy 0.9\n",
      "step 17500, training accuracy 0.96\n",
      "step 17600, training accuracy 0.9\n",
      "step 17700, training accuracy 0.92\n",
      "step 17800, training accuracy 0.96\n",
      "step 17900, training accuracy 0.9\n",
      "step 18000, training accuracy 0.9\n",
      "step 18100, training accuracy 0.94\n",
      "step 18200, training accuracy 0.92\n",
      "step 18300, training accuracy 0.86\n",
      "step 18400, training accuracy 0.96\n",
      "step 18500, training accuracy 0.9\n",
      "step 18600, training accuracy 0.86\n",
      "step 18700, training accuracy 0.9\n",
      "step 18800, training accuracy 0.94\n",
      "step 18900, training accuracy 0.94\n",
      "step 19000, training accuracy 0.92\n",
      "step 19100, training accuracy 0.86\n",
      "step 19200, training accuracy 0.94\n",
      "step 19300, training accuracy 0.86\n",
      "step 19400, training accuracy 0.94\n",
      "step 19500, training accuracy 0.9\n",
      "step 19600, training accuracy 0.9\n",
      "step 19700, training accuracy 0.94\n",
      "step 19800, training accuracy 0.92\n",
      "step 19900, training accuracy 0.86\n",
      "test accuracy 0.9142\n",
      "Execution time: 2.449040\n"
     ]
    }
   ],
   "source": [
    "start_time = timeit.default_timer()\n",
    "cross_entropy = tf.reduce_mean(tf.nn.softmax_cross_entropy_with_logits(labels=y_, logits=y_conv))\n",
    "train_step = tf.train.AdamOptimizer(1e-4).minimize(cross_entropy)\n",
    "correct_prediction = tf.equal(tf.argmax(y_conv,1), tf.argmax(y_,1))\n",
    "accuracy = tf.reduce_mean(tf.cast(correct_prediction, tf.float32))\n",
    "sess.run(tf.global_variables_initializer())\n",
    "for i in range(20000):\n",
    "    batch = mnist.train.next_batch(50)\n",
    "#     combine = []\n",
    "#     for j in range(len(batch[0])):\n",
    "#         halved = halved_array(batch[0][j])\n",
    "#         combine.append(halved)\n",
    "#     combined = np.asarray(combine) \n",
    "    if i%100 == 0:\n",
    "        train_accuracy = accuracy.eval(feed_dict={\n",
    "        x:batch[0], y_: batch[1], keep_prob: 1.0})\n",
    "#         x:batch[0], y_: batch[1], keep_prob: 1.0})\n",
    "        print(\"step %d, training accuracy %g\"%(i, train_accuracy))\n",
    "        train_step.run(feed_dict={x: batch[0], y_: batch[1], keep_prob: 0.5})\n",
    "\n",
    "print(\"test accuracy %g\"%accuracy.eval(feed_dict={\n",
    "    x: mnist.test.images, y_: mnist.test.labels, keep_prob: 1.0}))\n",
    "\n",
    "print \"Execution time: %f\"%( timeit.default_timer() - start_time)"
   ]
  },
  {
   "cell_type": "code",
   "execution_count": 83,
   "metadata": {
    "collapsed": true
   },
   "outputs": [],
   "source": [
    "from PIL import Image\n",
    "import numpy as np\n",
    "w, h= 512, 512\n",
    "data = np.zeros((h, w, 3), dtype=np.uint8)\n",
    "data[256, 256] = [0, 255, 0]\n",
    "img = Image.fromarray(data, 'RGB')\n",
    "img.show()"
   ]
  },
  {
   "cell_type": "code",
   "execution_count": 84,
   "metadata": {},
   "outputs": [
    {
     "ename": "NameError",
     "evalue": "name 'halved_array' is not defined",
     "output_type": "error",
     "traceback": [
      "\u001b[0;31m---------------------------------------------------------------------------\u001b[0m",
      "\u001b[0;31mNameError\u001b[0m                                 Traceback (most recent call last)",
      "\u001b[0;32m<ipython-input-84-8fb668e03801>\u001b[0m in \u001b[0;36m<module>\u001b[0;34m()\u001b[0m\n\u001b[1;32m      2\u001b[0m \u001b[0mdigit\u001b[0m \u001b[0;34m=\u001b[0m \u001b[0mdigit\u001b[0m\u001b[0;34m.\u001b[0m\u001b[0mreshape\u001b[0m\u001b[0;34m(\u001b[0m\u001b[0;36m28\u001b[0m\u001b[0;34m,\u001b[0m\u001b[0;36m28\u001b[0m\u001b[0;34m)\u001b[0m\u001b[0;34m\u001b[0m\u001b[0m\n\u001b[1;32m      3\u001b[0m \u001b[0;34m\u001b[0m\u001b[0m\n\u001b[0;32m----> 4\u001b[0;31m \u001b[0mdigit\u001b[0m \u001b[0;34m=\u001b[0m \u001b[0mhalved_array\u001b[0m\u001b[0;34m(\u001b[0m\u001b[0mdigit\u001b[0m\u001b[0;34m)\u001b[0m\u001b[0;34m\u001b[0m\u001b[0m\n\u001b[0m",
      "\u001b[0;31mNameError\u001b[0m: name 'halved_array' is not defined"
     ]
    }
   ],
   "source": [
    "digit = mnist.train.images[1004]\n",
    "digit = digit.reshape(28,28)\n",
    "\n",
    "digit = halved_array(digit)"
   ]
  },
  {
   "cell_type": "code",
   "execution_count": 99,
   "metadata": {
    "collapsed": true
   },
   "outputs": [],
   "source": [
    "def halved_array(array):\n",
    "    reshaped = array.reshape(28,28)\n",
    "    ones = np.ones([14,28])\n",
    "    zeros = np.zeros([14,28])\n",
    "    combined = np.stack((ones, zeros), axis=0)\n",
    "    combined = combined.reshape(28,28)\n",
    "    fill_with_zeros = np.multiply(reshaped, combined)\n",
    "    return fill_with_zeros.reshape(784)"
   ]
  },
  {
   "cell_type": "code",
   "execution_count": null,
   "metadata": {
    "collapsed": true
   },
   "outputs": [],
   "source": [
    "import scipy.misc\n",
    "scipy.misc.imsave('outfile.jpg', digit)"
   ]
  },
  {
   "cell_type": "code",
   "execution_count": null,
   "metadata": {
    "collapsed": true
   },
   "outputs": [],
   "source": [
    "length = len(mnist.train.images)\n",
    "halved = np.zeros(shape=(55000, 784))\n",
    "for i in range(length):\n",
    "    halved[i] = halved_array(mnist.train.images[i])"
   ]
  },
  {
   "cell_type": "code",
   "execution_count": 118,
   "metadata": {},
   "outputs": [],
   "source": [
    "batch = mnist.train.next_batch(100)\n",
    "images = batch[0]"
   ]
  },
  {
   "cell_type": "code",
   "execution_count": 122,
   "metadata": {},
   "outputs": [],
   "source": [
    "combine = []\n",
    "for i in range(len(images)):\n",
    "    halved = halved_array(images[i])\n",
    "    combine.append(halved)\n",
    "combine = np.asarray(combine)    "
   ]
  },
  {
   "cell_type": "code",
   "execution_count": 120,
   "metadata": {},
   "outputs": [],
   "source": []
  },
  {
   "cell_type": "code",
   "execution_count": 121,
   "metadata": {},
   "outputs": [
    {
     "data": {
      "text/plain": [
       "(100, 784)"
      ]
     },
     "execution_count": 121,
     "metadata": {},
     "output_type": "execute_result"
    }
   ],
   "source": [
    "combine.shape"
   ]
  },
  {
   "cell_type": "code",
   "execution_count": 117,
   "metadata": {},
   "outputs": [
    {
     "data": {
      "text/plain": [
       "(100, 784)"
      ]
     },
     "execution_count": 117,
     "metadata": {},
     "output_type": "execute_result"
    }
   ],
   "source": []
  }
 ],
 "metadata": {
  "kernelspec": {
   "display_name": "portfolio (Python 2)",
   "language": "python",
   "name": "portfolio"
  },
  "language_info": {
   "codemirror_mode": {
    "name": "ipython",
    "version": 2
   },
   "file_extension": ".py",
   "mimetype": "text/x-python",
   "name": "python",
   "nbconvert_exporter": "python",
   "pygments_lexer": "ipython2",
   "version": "2.7.12"
  }
 },
 "nbformat": 4,
 "nbformat_minor": 2
}
